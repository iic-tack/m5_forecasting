{
 "cells": [
  {
   "cell_type": "code",
   "execution_count": 1,
   "metadata": {},
   "outputs": [],
   "source": [
    "import numpy as np\n",
    "import pandas as pd\n",
    "import matplotlib.pyplot as plt\n",
    "import seaborn as sns; sns.set()\n",
    "import time\n",
    "from sklearn.preprocessing import LabelEncoder\n",
    "from sklearn.preprocessing import OrdinalEncoder\n",
    "pd.set_option('display.max_columns', 100)\n",
    "pd.set_option('display.max_rows', 300)"
   ]
  },
  {
   "cell_type": "code",
   "execution_count": 1,
   "metadata": {},
   "outputs": [
    {
     "name": "stdout",
     "output_type": "stream",
     "text": [
      "|            Variable Name|    Memory|\n",
      " ------------------------------------ \n"
     ]
    }
   ],
   "source": [
    "import sys\n",
    "# メモリ確認用 https://qiita.com/AnchorBlues/items/883790e43417640140aa\n",
    "print(\"{}{: >25}{}{: >10}{}\".format('|','Variable Name','|','Memory','|'))\n",
    "print(\" ------------------------------------ \")\n",
    "for var_name in dir():\n",
    "    if not var_name.startswith(\"_\") and sys.getsizeof(eval(var_name)) > 10000: #ここだけアレンジ\n",
    "        print(\"{}{: >25}{}{: >10}{}\".format('|',var_name,'|',sys.getsizeof(eval(var_name)),'|'))"
   ]
  },
  {
   "cell_type": "markdown",
   "metadata": {},
   "source": [
    "# 「価格弾力性」特徴量を作成しよう\n",
    "## GOAL:\n",
    "#### 「価格弾力性」風味の特徴量の作成\n",
    "\n",
    "* 価格弾力性とはなんぞや\n",
    "    * 「価格弾力性が大」--> 価格変動による需要の増減が大きい\n",
    "    * 「価格弾力性が小」--> 価格変動による需要の増減が小さい\n",
    "* よって、各商品の各々の価格に対する平均売り上げ個数を求め、その相関を調べればいいのでは?\n"
   ]
  },
  {
   "cell_type": "code",
   "execution_count": 2,
   "metadata": {},
   "outputs": [],
   "source": [
    "data_ex = pd.read_csv('./data/backup/data_ex4.csv')\n",
    "tmp = data_ex[[\"item_id\", \"sell_price\", \"num\"]]\n",
    "tmp = tmp.groupby([\"item_id\", \"sell_price\"]).mean().reset_index()\n",
    "tmp = tmp.set_index('item_id', drop=True)"
   ]
  },
  {
   "cell_type": "code",
   "execution_count": 7,
   "metadata": {},
   "outputs": [
    {
     "data": {
      "text/html": [
       "<div>\n",
       "<style scoped>\n",
       "    .dataframe tbody tr th:only-of-type {\n",
       "        vertical-align: middle;\n",
       "    }\n",
       "\n",
       "    .dataframe tbody tr th {\n",
       "        vertical-align: top;\n",
       "    }\n",
       "\n",
       "    .dataframe thead th {\n",
       "        text-align: right;\n",
       "    }\n",
       "</style>\n",
       "<table border=\"1\" class=\"dataframe\">\n",
       "  <thead>\n",
       "    <tr style=\"text-align: right;\">\n",
       "      <th></th>\n",
       "      <th>sell_price</th>\n",
       "      <th>num</th>\n",
       "    </tr>\n",
       "    <tr>\n",
       "      <th>item_id</th>\n",
       "      <th></th>\n",
       "      <th></th>\n",
       "    </tr>\n",
       "  </thead>\n",
       "  <tbody>\n",
       "    <tr>\n",
       "      <th>0</th>\n",
       "      <td>0.99</td>\n",
       "      <td>0.285714</td>\n",
       "    </tr>\n",
       "    <tr>\n",
       "      <th>0</th>\n",
       "      <td>1.00</td>\n",
       "      <td>1.000000</td>\n",
       "    </tr>\n",
       "    <tr>\n",
       "      <th>0</th>\n",
       "      <td>1.19</td>\n",
       "      <td>0.714286</td>\n",
       "    </tr>\n",
       "    <tr>\n",
       "      <th>0</th>\n",
       "      <td>1.75</td>\n",
       "      <td>0.428571</td>\n",
       "    </tr>\n",
       "    <tr>\n",
       "      <th>0</th>\n",
       "      <td>1.99</td>\n",
       "      <td>0.142857</td>\n",
       "    </tr>\n",
       "  </tbody>\n",
       "</table>\n",
       "</div>"
      ],
      "text/plain": [
       "         sell_price       num\n",
       "item_id                      \n",
       "0              0.99  0.285714\n",
       "0              1.00  1.000000\n",
       "0              1.19  0.714286\n",
       "0              1.75  0.428571\n",
       "0              1.99  0.142857"
      ]
     },
     "execution_count": 7,
     "metadata": {},
     "output_type": "execute_result"
    }
   ],
   "source": [
    "tmp.head()"
   ]
  },
  {
   "cell_type": "code",
   "execution_count": 3,
   "metadata": {},
   "outputs": [],
   "source": [
    "item = []\n",
    "corr = []\n",
    "for i in range(tmp.index.max()+1):\n",
    "    item.append(i)\n",
    "    hoge = tmp.loc[i]\n",
    "    size = hoge.size // 2\n",
    "    if size <= 1:\n",
    "        corr.append(0)\n",
    "    else:\n",
    "        score = tmp.loc[i].corr()[\"sell_price\"][\"num\"] / (1 + 1/size)\n",
    "        corr.append(score)"
   ]
  },
  {
   "cell_type": "code",
   "execution_count": 4,
   "metadata": {},
   "outputs": [],
   "source": [
    "out = pd.DataFrame(columns=[\"item_id\", \"corr\"])\n",
    "out[\"item_id\"] = item\n",
    "out[\"corr\"] = corr"
   ]
  },
  {
   "cell_type": "code",
   "execution_count": 8,
   "metadata": {},
   "outputs": [
    {
     "data": {
      "text/html": [
       "<div>\n",
       "<style scoped>\n",
       "    .dataframe tbody tr th:only-of-type {\n",
       "        vertical-align: middle;\n",
       "    }\n",
       "\n",
       "    .dataframe tbody tr th {\n",
       "        vertical-align: top;\n",
       "    }\n",
       "\n",
       "    .dataframe thead th {\n",
       "        text-align: right;\n",
       "    }\n",
       "</style>\n",
       "<table border=\"1\" class=\"dataframe\">\n",
       "  <thead>\n",
       "    <tr style=\"text-align: right;\">\n",
       "      <th></th>\n",
       "      <th>item_id</th>\n",
       "      <th>corr</th>\n",
       "    </tr>\n",
       "  </thead>\n",
       "  <tbody>\n",
       "    <tr>\n",
       "      <th>0</th>\n",
       "      <td>0</td>\n",
       "      <td>-0.225200</td>\n",
       "    </tr>\n",
       "    <tr>\n",
       "      <th>1</th>\n",
       "      <td>1</td>\n",
       "      <td>0.516147</td>\n",
       "    </tr>\n",
       "    <tr>\n",
       "      <th>2</th>\n",
       "      <td>2</td>\n",
       "      <td>0.313824</td>\n",
       "    </tr>\n",
       "    <tr>\n",
       "      <th>3</th>\n",
       "      <td>3</td>\n",
       "      <td>-0.701191</td>\n",
       "    </tr>\n",
       "    <tr>\n",
       "      <th>4</th>\n",
       "      <td>4</td>\n",
       "      <td>-0.700168</td>\n",
       "    </tr>\n",
       "  </tbody>\n",
       "</table>\n",
       "</div>"
      ],
      "text/plain": [
       "   item_id      corr\n",
       "0        0 -0.225200\n",
       "1        1  0.516147\n",
       "2        2  0.313824\n",
       "3        3 -0.701191\n",
       "4        4 -0.700168"
      ]
     },
     "execution_count": 8,
     "metadata": {},
     "output_type": "execute_result"
    }
   ],
   "source": [
    "out.head()"
   ]
  },
  {
   "cell_type": "markdown",
   "metadata": {},
   "source": [
    "# 統合"
   ]
  },
  {
   "cell_type": "code",
   "execution_count": 15,
   "metadata": {},
   "outputs": [],
   "source": [
    "data_ex_ = pd.merge(data_ex, out, on=\"item_id\")\n",
    "data_ex_.to_csv('./data/backup/data_ex5B.csv', index=False)"
   ]
  },
  {
   "cell_type": "markdown",
   "metadata": {},
   "source": [
    "# データの可視化"
   ]
  },
  {
   "cell_type": "code",
   "execution_count": 21,
   "metadata": {},
   "outputs": [],
   "source": [
    "t = data_ex[\"id\"].str.split(pat='_', expand=True)\n",
    "vis = pd.DataFrame(columns=[\"category\", \"dept\", \"item_id\", \"corr\"])\n",
    "vis[\"category\"] = t[0]\n",
    "vis[\"dept\"] = t[0] + '_' + t[1]\n",
    "vis[\"item_id\"] = data_ex[\"item_id\"]\n",
    "vis[\"corr\"] = data_ex[\"corr\"]\n",
    "vis.drop_duplicates(inplace=True)\n",
    "vis.reset_index(inplace=True)"
   ]
  },
  {
   "cell_type": "code",
   "execution_count": 47,
   "metadata": {},
   "outputs": [
    {
     "data": {
      "text/plain": [
       "<seaborn.axisgrid.FacetGrid at 0x7fcaf06668b0>"
      ]
     },
     "execution_count": 47,
     "metadata": {},
     "output_type": "execute_result"
    },
    {
     "data": {
      "image/png": "[encoded data removed]",
      "text/plain": [
       "<Figure size 1190.35x360 with 1 Axes>"
      ]
     },
     "metadata": {},
     "output_type": "display_data"
    }
   ],
   "source": [
    "g = sns.displot(\n",
    "    data=vis,\n",
    "    x=\"corr\", \n",
    "    y=\"category\", \n",
    "    hue=\"category\",\n",
    "    bins=40,\n",
    "    aspect=3)\n",
    "g.set_axis_labels(\"Score\", \"\")"
   ]
  },
  {
   "cell_type": "code",
   "execution_count": 56,
   "metadata": {},
   "outputs": [
    {
     "data": {
      "text/plain": [
       "<seaborn.axisgrid.FacetGrid at 0x7fcaf05a9370>"
      ]
     },
     "execution_count": 56,
     "metadata": {},
     "output_type": "execute_result"
    },
    {
     "data": {
      "image/png": "[encoded data removed]",
      "text/plain": [
       "<Figure size 1190.35x360 with 1 Axes>"
      ]
     },
     "metadata": {},
     "output_type": "display_data"
    }
   ],
   "source": [
    "g = sns.displot(\n",
    "    data=vis[(vis[\"corr\"]!=0) & ((abs(vis[\"corr\"])>0.67) | (abs(vis[\"corr\"])<0.66))],\n",
    "    x=\"corr\", \n",
    "    y=\"category\", \n",
    "    hue=\"category\",\n",
    "    bins=40,\n",
    "    aspect=3)\n",
    "g.set_axis_labels(\"Score\", \"\")"
   ]
  },
  {
   "cell_type": "code",
   "execution_count": 54,
   "metadata": {},
   "outputs": [
    {
     "data": {
      "text/html": [
       "<div>\n",
       "<style scoped>\n",
       "    .dataframe tbody tr th:only-of-type {\n",
       "        vertical-align: middle;\n",
       "    }\n",
       "\n",
       "    .dataframe tbody tr th {\n",
       "        vertical-align: top;\n",
       "    }\n",
       "\n",
       "    .dataframe thead th {\n",
       "        text-align: right;\n",
       "    }\n",
       "</style>\n",
       "<table border=\"1\" class=\"dataframe\">\n",
       "  <thead>\n",
       "    <tr style=\"text-align: right;\">\n",
       "      <th></th>\n",
       "      <th>index</th>\n",
       "      <th>category</th>\n",
       "      <th>dept</th>\n",
       "      <th>item_id</th>\n",
       "      <th>corr</th>\n",
       "    </tr>\n",
       "  </thead>\n",
       "  <tbody>\n",
       "    <tr>\n",
       "      <th>0</th>\n",
       "      <td>6</td>\n",
       "      <td>HOBBIES</td>\n",
       "      <td>HOBBIES_1</td>\n",
       "      <td>1444</td>\n",
       "      <td>-0.730432</td>\n",
       "    </tr>\n",
       "    <tr>\n",
       "      <th>1</th>\n",
       "      <td>19263</td>\n",
       "      <td>HOBBIES</td>\n",
       "      <td>HOBBIES_1</td>\n",
       "      <td>1445</td>\n",
       "      <td>0.125286</td>\n",
       "    </tr>\n",
       "    <tr>\n",
       "      <th>2</th>\n",
       "      <td>38239</td>\n",
       "      <td>HOBBIES</td>\n",
       "      <td>HOBBIES_1</td>\n",
       "      <td>1446</td>\n",
       "      <td>0.679180</td>\n",
       "    </tr>\n",
       "    <tr>\n",
       "      <th>3</th>\n",
       "      <td>57929</td>\n",
       "      <td>HOBBIES</td>\n",
       "      <td>HOBBIES_1</td>\n",
       "      <td>1448</td>\n",
       "      <td>-0.772784</td>\n",
       "    </tr>\n",
       "    <tr>\n",
       "      <th>4</th>\n",
       "      <td>77612</td>\n",
       "      <td>HOBBIES</td>\n",
       "      <td>HOBBIES_1</td>\n",
       "      <td>1451</td>\n",
       "      <td>-0.035299</td>\n",
       "    </tr>\n",
       "    <tr>\n",
       "      <th>...</th>\n",
       "      <td>...</td>\n",
       "      <td>...</td>\n",
       "      <td>...</td>\n",
       "      <td>...</td>\n",
       "      <td>...</td>\n",
       "    </tr>\n",
       "    <tr>\n",
       "      <th>3039</th>\n",
       "      <td>47686449</td>\n",
       "      <td>FOODS</td>\n",
       "      <td>FOODS_3</td>\n",
       "      <td>1078</td>\n",
       "      <td>-0.202186</td>\n",
       "    </tr>\n",
       "    <tr>\n",
       "      <th>3040</th>\n",
       "      <td>47691327</td>\n",
       "      <td>HOUSEHOLD</td>\n",
       "      <td>HOUSEHOLD_1</td>\n",
       "      <td>2238</td>\n",
       "      <td>0.107226</td>\n",
       "    </tr>\n",
       "    <tr>\n",
       "      <th>3041</th>\n",
       "      <td>47695477</td>\n",
       "      <td>FOODS</td>\n",
       "      <td>FOODS_3</td>\n",
       "      <td>1112</td>\n",
       "      <td>0.101051</td>\n",
       "    </tr>\n",
       "    <tr>\n",
       "      <th>3042</th>\n",
       "      <td>47700621</td>\n",
       "      <td>FOODS</td>\n",
       "      <td>FOODS_3</td>\n",
       "      <td>1175</td>\n",
       "      <td>0.575755</td>\n",
       "    </tr>\n",
       "    <tr>\n",
       "      <th>3045</th>\n",
       "      <td>47715759</td>\n",
       "      <td>FOODS</td>\n",
       "      <td>FOODS_3</td>\n",
       "      <td>1259</td>\n",
       "      <td>-0.625427</td>\n",
       "    </tr>\n",
       "  </tbody>\n",
       "</table>\n",
       "<p>2325 rows × 5 columns</p>\n",
       "</div>"
      ],
      "text/plain": [
       "         index   category         dept  item_id      corr\n",
       "0            6    HOBBIES    HOBBIES_1     1444 -0.730432\n",
       "1        19263    HOBBIES    HOBBIES_1     1445  0.125286\n",
       "2        38239    HOBBIES    HOBBIES_1     1446  0.679180\n",
       "3        57929    HOBBIES    HOBBIES_1     1448 -0.772784\n",
       "4        77612    HOBBIES    HOBBIES_1     1451 -0.035299\n",
       "...        ...        ...          ...      ...       ...\n",
       "3039  47686449      FOODS      FOODS_3     1078 -0.202186\n",
       "3040  47691327  HOUSEHOLD  HOUSEHOLD_1     2238  0.107226\n",
       "3041  47695477      FOODS      FOODS_3     1112  0.101051\n",
       "3042  47700621      FOODS      FOODS_3     1175  0.575755\n",
       "3045  47715759      FOODS      FOODS_3     1259 -0.625427\n",
       "\n",
       "[2325 rows x 5 columns]"
      ]
     },
     "execution_count": 54,
     "metadata": {},
     "output_type": "execute_result"
    }
   ],
   "source": [
    "vis[(vis[\"corr\"]!=0) & ((abs(vis[\"corr\"])>0.67) | (abs(vis[\"corr\"])<0.66))]"
   ]
  },
  {
   "cell_type": "code",
   "execution_count": 44,
   "metadata": {},
   "outputs": [
    {
     "data": {
      "text/plain": [
       "<seaborn.axisgrid.FacetGrid at 0x7fcaf04a46a0>"
      ]
     },
     "execution_count": 44,
     "metadata": {},
     "output_type": "execute_result"
    },
    {
     "data": {
      "image/png": "[encoded data removed]",
      "text/plain": [
       "<Figure size 1190.35x360 with 1 Axes>"
      ]
     },
     "metadata": {},
     "output_type": "display_data"
    }
   ],
   "source": [
    "g = sns.displot(\n",
    "    data=vis,\n",
    "    x=\"corr\", \n",
    "    y=\"dept\", \n",
    "    hue=\"category\",\n",
    "    bins=40,\n",
    "    aspect=3)\n",
    "g.set_axis_labels(\"Score\", \"\")"
   ]
  },
  {
   "cell_type": "code",
   "execution_count": 55,
   "metadata": {},
   "outputs": [
    {
     "data": {
      "text/plain": [
       "<seaborn.axisgrid.FacetGrid at 0x7fcaf06f2e50>"
      ]
     },
     "execution_count": 55,
     "metadata": {},
     "output_type": "execute_result"
    },
    {
     "data": {
      "image/png": "[encoded data removed]",
      "text/plain": [
       "<Figure size 1190.35x360 with 1 Axes>"
      ]
     },
     "metadata": {},
     "output_type": "display_data"
    }
   ],
   "source": [
    "g = sns.displot(\n",
    "    data=vis[(vis[\"corr\"]!=0) & ((abs(vis[\"corr\"])>0.67) | (abs(vis[\"corr\"])<0.66))],\n",
    "    x=\"corr\", \n",
    "    y=\"dept\", \n",
    "    hue=\"category\",\n",
    "    bins=40,\n",
    "    aspect=3)\n",
    "g.set_axis_labels(\"Score\", \"\")"
   ]
  },
  {
   "cell_type": "markdown",
   "metadata": {},
   "source": [
    "* 特にfoodで顕著な傾向。\n",
    "    * 商品が売れる時期に値上げを行い、売れない時期には価格を下げている？ "
   ]
  }
 ],
 "metadata": {
  "interpreter": {
   "hash": "4ecd131dd2736a975de87fab5bd813599b4f7e4bfa3466a458ddb801b3a2377f"
  },
  "kernelspec": {
   "display_name": "Python 3.8.5 64-bit ('moji110': conda)",
   "name": "python3"
  },
  "language_info": {
   "codemirror_mode": {
    "name": "ipython",
    "version": 3
   },
   "file_extension": ".py",
   "mimetype": "text/x-python",
   "name": "python",
   "nbconvert_exporter": "python",
   "pygments_lexer": "ipython3",
   "version": "3.8.5"
  },
  "orig_nbformat": 4
 },
 "nbformat": 4,
 "nbformat_minor": 2
}
